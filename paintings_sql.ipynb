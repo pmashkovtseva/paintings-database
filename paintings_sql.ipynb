{
 "cells": [
  {
   "cell_type": "markdown",
   "id": "764dca41",
   "metadata": {
    "slideshow": {
     "slide_type": "slide"
    }
   },
   "source": [
    "# paintings_db"
   ]
  },
  {
   "cell_type": "code",
   "execution_count": 1,
   "id": "5a7cadfb",
   "metadata": {
    "scrolled": true
   },
   "outputs": [
    {
     "name": "stdout",
     "output_type": "stream",
     "text": [
      "Defaulting to user installation because normal site-packages is not writeable\n",
      "Requirement already satisfied: mysql-connector-python in ./.local/lib/python3.10/site-packages (8.0.31)\n",
      "Requirement already satisfied: protobuf<=3.20.1,>=3.11.0 in ./.local/lib/python3.10/site-packages (from mysql-connector-python) (3.20.1)\n"
     ]
    }
   ],
   "source": [
    "!pip install mysql-connector-python"
   ]
  },
  {
   "cell_type": "code",
   "execution_count": 2,
   "id": "c6f2a1c5",
   "metadata": {},
   "outputs": [],
   "source": [
    "import yaml"
   ]
  },
  {
   "cell_type": "code",
   "execution_count": 3,
   "id": "a26280b2",
   "metadata": {},
   "outputs": [],
   "source": [
    "with open(\"my_secret_file.yaml\", \"r\") as stream:\n",
    "    try:\n",
    "        data = yaml.safe_load(stream)\n",
    "    except yaml.YAMLError as exc:\n",
    "        print(exc)"
   ]
  },
  {
   "cell_type": "code",
   "execution_count": 4,
   "id": "ca1a2962",
   "metadata": {},
   "outputs": [],
   "source": [
    "import mysql.connector"
   ]
  },
  {
   "cell_type": "code",
   "execution_count": 5,
   "id": "6dd8d2b8",
   "metadata": {},
   "outputs": [],
   "source": [
    "con = mysql.connector.connect(host=\"localhost\", port=3306, user=data['username'], password=data['password'])"
   ]
  },
  {
   "cell_type": "code",
   "execution_count": 6,
   "id": "ad2abff6",
   "metadata": {},
   "outputs": [],
   "source": [
    "cur = con.cursor()"
   ]
  },
  {
   "cell_type": "markdown",
   "id": "738449b6",
   "metadata": {},
   "source": [
    "## Create"
   ]
  },
  {
   "cell_type": "code",
   "execution_count": 70,
   "id": "0586f55b",
   "metadata": {},
   "outputs": [],
   "source": [
    "cur.execute(\"CREATE SCHEMA IF NOT EXISTS paintings_schema\")"
   ]
  },
  {
   "cell_type": "code",
   "execution_count": 71,
   "id": "6c759885",
   "metadata": {},
   "outputs": [],
   "source": [
    "cur.execute(\"\"\"CREATE TABLE paintings_schema.painting (\n",
    "  id_painting INT NOT NULL AUTO_INCREMENT,\n",
    "  title VARCHAR(120) NULL,\n",
    "  creation_date VARCHAR(30) NULL,\n",
    "  id_artist VARCHAR(60) NULL,\n",
    "  id_museum VARCHAR(60) NULL,\n",
    "  id_medium VARCHAR(60) NULL,\n",
    "  id_art_movement VARCHAR(45) NULL,\n",
    "  PRIMARY KEY (id_painting))\n",
    "  \"\"\")"
   ]
  },
  {
   "cell_type": "code",
   "execution_count": 72,
   "id": "1f081871",
   "metadata": {},
   "outputs": [],
   "source": [
    "import pandas as pd"
   ]
  },
  {
   "cell_type": "code",
   "execution_count": 73,
   "id": "f1b9e106",
   "metadata": {},
   "outputs": [],
   "source": [
    "data_paintings = pd.read_csv('paintings_db - painting.csv')   \n",
    "df_paintings = pd.DataFrame(data_paintings)"
   ]
  },
  {
   "cell_type": "code",
   "execution_count": 74,
   "id": "e91c16d7",
   "metadata": {
    "scrolled": true
   },
   "outputs": [
    {
     "data": {
      "text/html": [
       "<div>\n",
       "<style scoped>\n",
       "    .dataframe tbody tr th:only-of-type {\n",
       "        vertical-align: middle;\n",
       "    }\n",
       "\n",
       "    .dataframe tbody tr th {\n",
       "        vertical-align: top;\n",
       "    }\n",
       "\n",
       "    .dataframe thead th {\n",
       "        text-align: right;\n",
       "    }\n",
       "</style>\n",
       "<table border=\"1\" class=\"dataframe\">\n",
       "  <thead>\n",
       "    <tr style=\"text-align: right;\">\n",
       "      <th></th>\n",
       "      <th>title</th>\n",
       "      <th>creation_date</th>\n",
       "      <th>id_artist</th>\n",
       "      <th>id_museum</th>\n",
       "      <th>id_medium</th>\n",
       "      <th>id_art_movement</th>\n",
       "    </tr>\n",
       "  </thead>\n",
       "  <tbody>\n",
       "    <tr>\n",
       "      <th>0</th>\n",
       "      <td>Almond Blossoms</td>\n",
       "      <td>1890</td>\n",
       "      <td>Vincent van Gogh</td>\n",
       "      <td>Van Gogh Museum</td>\n",
       "      <td>oil on canvas</td>\n",
       "      <td>Post Impressionism</td>\n",
       "    </tr>\n",
       "    <tr>\n",
       "      <th>1</th>\n",
       "      <td>American Gothic</td>\n",
       "      <td>1930</td>\n",
       "      <td>Grant Wood</td>\n",
       "      <td>Art Institute of Chicago</td>\n",
       "      <td>oil on beaver board</td>\n",
       "      <td>Regionalism</td>\n",
       "    </tr>\n",
       "    <tr>\n",
       "      <th>2</th>\n",
       "      <td>Archer</td>\n",
       "      <td>1919</td>\n",
       "      <td>Theo van Doesburg</td>\n",
       "      <td>Museum of Fine Arts</td>\n",
       "      <td>pencil and gouache on paper</td>\n",
       "      <td>Dada</td>\n",
       "    </tr>\n",
       "    <tr>\n",
       "      <th>3</th>\n",
       "      <td>Au Moulin Rouge</td>\n",
       "      <td>1892-1895</td>\n",
       "      <td>Henri de Toulouse-Lautrec</td>\n",
       "      <td>Art Institute of Chicago</td>\n",
       "      <td>oil on canvas</td>\n",
       "      <td>Post Impressionism</td>\n",
       "    </tr>\n",
       "    <tr>\n",
       "      <th>4</th>\n",
       "      <td>Beata Beatrix</td>\n",
       "      <td>1864</td>\n",
       "      <td>Dante Gabriel Rossetti</td>\n",
       "      <td>Tate Britain</td>\n",
       "      <td>oil on canvas</td>\n",
       "      <td>Aestheticism</td>\n",
       "    </tr>\n",
       "  </tbody>\n",
       "</table>\n",
       "</div>"
      ],
      "text/plain": [
       "             title creation_date                  id_artist  \\\n",
       "0  Almond Blossoms          1890           Vincent van Gogh   \n",
       "1  American Gothic          1930                 Grant Wood   \n",
       "2           Archer          1919          Theo van Doesburg   \n",
       "3  Au Moulin Rouge     1892-1895  Henri de Toulouse-Lautrec   \n",
       "4    Beata Beatrix          1864     Dante Gabriel Rossetti   \n",
       "\n",
       "                  id_museum                    id_medium     id_art_movement  \n",
       "0           Van Gogh Museum                oil on canvas  Post Impressionism  \n",
       "1  Art Institute of Chicago          oil on beaver board         Regionalism  \n",
       "2       Museum of Fine Arts  pencil and gouache on paper                Dada  \n",
       "3  Art Institute of Chicago                oil on canvas  Post Impressionism  \n",
       "4              Tate Britain                oil on canvas        Aestheticism  "
      ]
     },
     "execution_count": 74,
     "metadata": {},
     "output_type": "execute_result"
    }
   ],
   "source": [
    "df_paintings.head()"
   ]
  },
  {
   "cell_type": "code",
   "execution_count": 75,
   "id": "40373612",
   "metadata": {},
   "outputs": [],
   "source": [
    "query = \"INSERT INTO paintings_schema.painting (title, creation_date, id_artist, id_museum, id_medium, id_art_movement) VALUES (%s, %s, %s, %s, %s, %s)\"\n",
    "for row in df_paintings.itertuples():\n",
    "    data = (row.title, row.creation_date, row.id_artist, row.id_museum, row.id_medium, row.id_art_movement)\n",
    "    cur.execute(query, data)\n",
    "con.commit()"
   ]
  },
  {
   "cell_type": "markdown",
   "id": "b61b4c94",
   "metadata": {},
   "source": [
    "## Read"
   ]
  },
  {
   "cell_type": "code",
   "execution_count": 76,
   "id": "a8dc9412",
   "metadata": {},
   "outputs": [],
   "source": [
    "cur.execute(\"SELECT * FROM paintings_schema.painting\")"
   ]
  },
  {
   "cell_type": "code",
   "execution_count": 77,
   "id": "5ff00e20",
   "metadata": {},
   "outputs": [],
   "source": [
    "res = cur.fetchall()"
   ]
  },
  {
   "cell_type": "code",
   "execution_count": 78,
   "id": "d391cf24",
   "metadata": {},
   "outputs": [
    {
     "data": {
      "text/plain": [
       "74"
      ]
     },
     "execution_count": 78,
     "metadata": {},
     "output_type": "execute_result"
    }
   ],
   "source": [
    "len(res)"
   ]
  },
  {
   "cell_type": "code",
   "execution_count": 79,
   "id": "75b4810c",
   "metadata": {},
   "outputs": [
    {
     "data": {
      "text/plain": [
       "[(1,\n",
       "  'Almond Blossoms',\n",
       "  '1890',\n",
       "  'Vincent van Gogh',\n",
       "  'Van Gogh Museum',\n",
       "  'oil on canvas',\n",
       "  'Post Impressionism'),\n",
       " (2,\n",
       "  'American Gothic',\n",
       "  '1930',\n",
       "  'Grant Wood',\n",
       "  'Art Institute of Chicago',\n",
       "  'oil on beaver board',\n",
       "  'Regionalism')]"
      ]
     },
     "execution_count": 79,
     "metadata": {},
     "output_type": "execute_result"
    }
   ],
   "source": [
    "res[:2]"
   ]
  },
  {
   "cell_type": "markdown",
   "id": "011fc5ca",
   "metadata": {},
   "source": [
    "## Update"
   ]
  },
  {
   "cell_type": "code",
   "execution_count": 80,
   "id": "1e2d2b9d",
   "metadata": {},
   "outputs": [],
   "source": [
    "cur.execute(\"UPDATE paintings_schema.painting SET creation_date = NULL WHERE (creation_date = '-')\")\n",
    "cur.execute(\"UPDATE paintings_schema.painting SET id_medium = NULL WHERE (id_medium = '-')\")\n",
    "con.commit()"
   ]
  },
  {
   "cell_type": "markdown",
   "id": "cbbde042",
   "metadata": {},
   "source": [
    "## artists"
   ]
  },
  {
   "cell_type": "code",
   "execution_count": 81,
   "id": "085f4f62",
   "metadata": {},
   "outputs": [],
   "source": [
    "data_artists = pd.read_csv('paintings_db - artist.csv')   \n",
    "df_artists = pd.DataFrame(data_artists)"
   ]
  },
  {
   "cell_type": "code",
   "execution_count": 82,
   "id": "71116038",
   "metadata": {},
   "outputs": [
    {
     "data": {
      "text/html": [
       "<div>\n",
       "<style scoped>\n",
       "    .dataframe tbody tr th:only-of-type {\n",
       "        vertical-align: middle;\n",
       "    }\n",
       "\n",
       "    .dataframe tbody tr th {\n",
       "        vertical-align: top;\n",
       "    }\n",
       "\n",
       "    .dataframe thead th {\n",
       "        text-align: right;\n",
       "    }\n",
       "</style>\n",
       "<table border=\"1\" class=\"dataframe\">\n",
       "  <thead>\n",
       "    <tr style=\"text-align: right;\">\n",
       "      <th></th>\n",
       "      <th>name</th>\n",
       "      <th>born</th>\n",
       "      <th>died</th>\n",
       "      <th>origin</th>\n",
       "    </tr>\n",
       "  </thead>\n",
       "  <tbody>\n",
       "    <tr>\n",
       "      <th>0</th>\n",
       "      <td>Albrecht Dürer</td>\n",
       "      <td>1471</td>\n",
       "      <td>1528</td>\n",
       "      <td>German</td>\n",
       "    </tr>\n",
       "    <tr>\n",
       "      <th>1</th>\n",
       "      <td>Alice Bailly</td>\n",
       "      <td>1872</td>\n",
       "      <td>1938</td>\n",
       "      <td>Swiss</td>\n",
       "    </tr>\n",
       "    <tr>\n",
       "      <th>2</th>\n",
       "      <td>Andy Warhol</td>\n",
       "      <td>1928</td>\n",
       "      <td>1987</td>\n",
       "      <td>American</td>\n",
       "    </tr>\n",
       "    <tr>\n",
       "      <th>3</th>\n",
       "      <td>Banksy</td>\n",
       "      <td>-</td>\n",
       "      <td>-</td>\n",
       "      <td>-</td>\n",
       "    </tr>\n",
       "    <tr>\n",
       "      <th>4</th>\n",
       "      <td>Carl Andre</td>\n",
       "      <td>1935</td>\n",
       "      <td>-</td>\n",
       "      <td>American</td>\n",
       "    </tr>\n",
       "  </tbody>\n",
       "</table>\n",
       "</div>"
      ],
      "text/plain": [
       "             name  born  died    origin\n",
       "0  Albrecht Dürer  1471  1528    German\n",
       "1    Alice Bailly  1872  1938     Swiss\n",
       "2     Andy Warhol  1928  1987  American\n",
       "3          Banksy     -     -         -\n",
       "4      Carl Andre  1935     -  American"
      ]
     },
     "execution_count": 82,
     "metadata": {},
     "output_type": "execute_result"
    }
   ],
   "source": [
    "df_artists.head()"
   ]
  },
  {
   "cell_type": "code",
   "execution_count": 83,
   "id": "9a78c075",
   "metadata": {},
   "outputs": [],
   "source": [
    "cur.execute(\"\"\"CREATE TABLE paintings_schema.artist (\n",
    "  id_artist INT NOT NULL AUTO_INCREMENT,\n",
    "  name VARCHAR(120) NULL,\n",
    "  born VARCHAR(30) NULL,\n",
    "  died VARCHAR(30) NULL,\n",
    "  origin VARCHAR(60) NULL,\n",
    "  PRIMARY KEY (id_artist))\n",
    "  \"\"\")"
   ]
  },
  {
   "cell_type": "code",
   "execution_count": 84,
   "id": "6f53ec1f",
   "metadata": {},
   "outputs": [],
   "source": [
    "query = \"INSERT INTO paintings_schema.artist (name, born, died, origin) VALUES (%s, %s, %s, %s)\"\n",
    "for row in df_artists.itertuples():\n",
    "    data = (row.name, row.born, row.died, row.origin)\n",
    "    cur.execute(query, data)\n",
    "con.commit()"
   ]
  },
  {
   "cell_type": "code",
   "execution_count": 85,
   "id": "8cb04fbb",
   "metadata": {},
   "outputs": [],
   "source": [
    "cur.execute(\"UPDATE paintings_schema.artist SET born = NULL WHERE (born = '-')\")\n",
    "cur.execute(\"UPDATE paintings_schema.artist SET died = NULL WHERE (died = '-')\")\n",
    "cur.execute(\"UPDATE paintings_schema.artist SET origin = NULL WHERE (origin = '-')\")\n",
    "con.commit()"
   ]
  },
  {
   "cell_type": "code",
   "execution_count": 86,
   "id": "2aed3512",
   "metadata": {},
   "outputs": [],
   "source": [
    "cur.execute(\n",
    "    \"\"\"\n",
    "    UPDATE paintings_schema.painting\n",
    "    INNER JOIN paintings_schema.artist\n",
    "    ON paintings_schema.painting.id_artist = paintings_schema.artist.name\n",
    "    SET paintings_schema.painting.id_artist = paintings_schema.artist.id_artist\n",
    "    WHERE paintings_schema.painting.id_artist = paintings_schema.artist.name\n",
    "    \"\"\"\n",
    "    )\n",
    "con.commit()"
   ]
  },
  {
   "cell_type": "code",
   "execution_count": 88,
   "id": "397d8037",
   "metadata": {},
   "outputs": [],
   "source": [
    "cur.execute(\n",
    "    \"\"\"\n",
    "    ALTER TABLE paintings_schema.painting\n",
    "    MODIFY id_artist INT,\n",
    "    ADD CONSTRAINT fk_id_artist\n",
    "    FOREIGN KEY (id_artist) REFERENCES paintings_schema.artist(id_artist)\n",
    "    \"\"\"\n",
    "    )\n",
    "con.commit()"
   ]
  },
  {
   "cell_type": "markdown",
   "id": "07005f9f",
   "metadata": {},
   "source": [
    "## museums"
   ]
  },
  {
   "cell_type": "code",
   "execution_count": 89,
   "id": "7948e864",
   "metadata": {},
   "outputs": [],
   "source": [
    "data_museums = pd.read_csv('paintings_db - museum.csv')   \n",
    "df_museums = pd.DataFrame(data_museums)"
   ]
  },
  {
   "cell_type": "code",
   "execution_count": 90,
   "id": "385b34b5",
   "metadata": {
    "scrolled": true
   },
   "outputs": [
    {
     "data": {
      "text/html": [
       "<div>\n",
       "<style scoped>\n",
       "    .dataframe tbody tr th:only-of-type {\n",
       "        vertical-align: middle;\n",
       "    }\n",
       "\n",
       "    .dataframe tbody tr th {\n",
       "        vertical-align: top;\n",
       "    }\n",
       "\n",
       "    .dataframe thead th {\n",
       "        text-align: right;\n",
       "    }\n",
       "</style>\n",
       "<table border=\"1\" class=\"dataframe\">\n",
       "  <thead>\n",
       "    <tr style=\"text-align: right;\">\n",
       "      <th></th>\n",
       "      <th>name</th>\n",
       "      <th>id_location</th>\n",
       "    </tr>\n",
       "  </thead>\n",
       "  <tbody>\n",
       "    <tr>\n",
       "      <th>0</th>\n",
       "      <td>Albertina Museum</td>\n",
       "      <td>Vienna, Austria</td>\n",
       "    </tr>\n",
       "    <tr>\n",
       "      <th>1</th>\n",
       "      <td>Albright Art Gallery</td>\n",
       "      <td>New York, USA</td>\n",
       "    </tr>\n",
       "    <tr>\n",
       "      <th>2</th>\n",
       "      <td>Albright-Knox Art Gallery</td>\n",
       "      <td>Buffalo, USA</td>\n",
       "    </tr>\n",
       "    <tr>\n",
       "      <th>3</th>\n",
       "      <td>Alex Reid and Lefevre</td>\n",
       "      <td>London, England</td>\n",
       "    </tr>\n",
       "    <tr>\n",
       "      <th>4</th>\n",
       "      <td>Art Gallery of New South Wales</td>\n",
       "      <td>Sydney, Australia</td>\n",
       "    </tr>\n",
       "  </tbody>\n",
       "</table>\n",
       "</div>"
      ],
      "text/plain": [
       "                             name        id_location\n",
       "0                Albertina Museum    Vienna, Austria\n",
       "1            Albright Art Gallery      New York, USA\n",
       "2       Albright-Knox Art Gallery       Buffalo, USA\n",
       "3           Alex Reid and Lefevre    London, England\n",
       "4  Art Gallery of New South Wales  Sydney, Australia"
      ]
     },
     "execution_count": 90,
     "metadata": {},
     "output_type": "execute_result"
    }
   ],
   "source": [
    "df_museums.head()"
   ]
  },
  {
   "cell_type": "code",
   "execution_count": 91,
   "id": "08a2c4d5",
   "metadata": {},
   "outputs": [],
   "source": [
    "cur.execute(\"\"\"CREATE TABLE paintings_schema.museum (\n",
    "  id_museum INT NOT NULL AUTO_INCREMENT,\n",
    "  name VARCHAR(120) NULL,\n",
    "  id_location VARCHAR(60) NULL,\n",
    "  PRIMARY KEY (id_museum))\n",
    "  \"\"\")"
   ]
  },
  {
   "cell_type": "code",
   "execution_count": 92,
   "id": "aa4ac2b0",
   "metadata": {},
   "outputs": [],
   "source": [
    "query = \"INSERT INTO paintings_schema.museum (name, id_location) VALUES (%s, %s)\"\n",
    "for row in df_museums.itertuples():\n",
    "    data = (row.name, row.id_location)\n",
    "    cur.execute(query, data)\n",
    "con.commit()"
   ]
  },
  {
   "cell_type": "code",
   "execution_count": 93,
   "id": "c31c0fc9",
   "metadata": {},
   "outputs": [],
   "source": [
    "cur.execute(\n",
    "    \"\"\"\n",
    "    UPDATE paintings_schema.painting\n",
    "    INNER JOIN paintings_schema.museum\n",
    "    ON paintings_schema.painting.id_museum = paintings_schema.museum.name\n",
    "    SET paintings_schema.painting.id_museum = paintings_schema.museum.id_museum\n",
    "    WHERE paintings_schema.painting.id_museum = paintings_schema.museum.name\n",
    "    \"\"\"\n",
    "    )\n",
    "con.commit()"
   ]
  },
  {
   "cell_type": "code",
   "execution_count": 94,
   "id": "8de096f4",
   "metadata": {},
   "outputs": [],
   "source": [
    "cur.execute(\n",
    "    \"\"\"\n",
    "    ALTER TABLE paintings_schema.painting\n",
    "    MODIFY id_museum INT,\n",
    "    ADD CONSTRAINT fk_id_museum\n",
    "    FOREIGN KEY (id_museum) REFERENCES paintings_schema.museum(id_museum)\n",
    "    \"\"\"\n",
    "    )\n",
    "con.commit()"
   ]
  },
  {
   "cell_type": "markdown",
   "id": "8259149d",
   "metadata": {},
   "source": [
    "## mediums"
   ]
  },
  {
   "cell_type": "code",
   "execution_count": 95,
   "id": "19c473e5",
   "metadata": {},
   "outputs": [],
   "source": [
    "cur.execute(\"\"\"CREATE TABLE paintings_schema.medium (\n",
    "  id_medium INT NOT NULL AUTO_INCREMENT,\n",
    "  title VARCHAR(60) NULL,\n",
    "  PRIMARY KEY (id_medium))\n",
    "  \"\"\")"
   ]
  },
  {
   "cell_type": "code",
   "execution_count": 96,
   "id": "bb8fe0af",
   "metadata": {},
   "outputs": [],
   "source": [
    "cur.execute(\"\"\"INSERT INTO paintings_schema.medium (title)\n",
    "    SELECT DISTINCT id_medium\n",
    "    FROM paintings_schema.painting\n",
    "    WHERE id_medium IS NOT NULL\n",
    "    \"\"\")\n",
    "con.commit()"
   ]
  },
  {
   "cell_type": "code",
   "execution_count": 97,
   "id": "4152f8f9",
   "metadata": {},
   "outputs": [],
   "source": [
    "cur.execute(\n",
    "    \"\"\"\n",
    "    UPDATE paintings_schema.painting\n",
    "    INNER JOIN paintings_schema.medium\n",
    "    ON paintings_schema.painting.id_medium = paintings_schema.medium.title\n",
    "    SET paintings_schema.painting.id_medium = paintings_schema.medium.id_medium\n",
    "    WHERE paintings_schema.painting.id_medium = paintings_schema.medium.title\n",
    "    \"\"\"\n",
    "    )\n",
    "con.commit()"
   ]
  },
  {
   "cell_type": "code",
   "execution_count": 98,
   "id": "48d48760",
   "metadata": {},
   "outputs": [],
   "source": [
    "cur.execute(\n",
    "    \"\"\"\n",
    "    ALTER TABLE paintings_schema.painting\n",
    "    MODIFY id_medium INT,\n",
    "    ADD CONSTRAINT fk_id_medium\n",
    "    FOREIGN KEY (id_medium) REFERENCES paintings_schema.medium(id_medium)\n",
    "    \"\"\"\n",
    "    )\n",
    "con.commit()"
   ]
  },
  {
   "cell_type": "markdown",
   "id": "08e08b00",
   "metadata": {},
   "source": [
    "## art movements"
   ]
  },
  {
   "cell_type": "code",
   "execution_count": 99,
   "id": "3d2896f9",
   "metadata": {},
   "outputs": [],
   "source": [
    "data_art_movements = pd.read_csv('paintings_db - art_movement.csv')   \n",
    "df_art_movements = pd.DataFrame(data_art_movements)"
   ]
  },
  {
   "cell_type": "code",
   "execution_count": 100,
   "id": "5f17116f",
   "metadata": {},
   "outputs": [
    {
     "data": {
      "text/html": [
       "<div>\n",
       "<style scoped>\n",
       "    .dataframe tbody tr th:only-of-type {\n",
       "        vertical-align: middle;\n",
       "    }\n",
       "\n",
       "    .dataframe tbody tr th {\n",
       "        vertical-align: top;\n",
       "    }\n",
       "\n",
       "    .dataframe thead th {\n",
       "        text-align: right;\n",
       "    }\n",
       "</style>\n",
       "<table border=\"1\" class=\"dataframe\">\n",
       "  <thead>\n",
       "    <tr style=\"text-align: right;\">\n",
       "      <th></th>\n",
       "      <th>title</th>\n",
       "      <th>dates</th>\n",
       "    </tr>\n",
       "  </thead>\n",
       "  <tbody>\n",
       "    <tr>\n",
       "      <th>0</th>\n",
       "      <td>Abstract Expressionism</td>\n",
       "      <td>1946-...</td>\n",
       "    </tr>\n",
       "    <tr>\n",
       "      <th>1</th>\n",
       "      <td>Academic Art</td>\n",
       "      <td>1560-1900</td>\n",
       "    </tr>\n",
       "    <tr>\n",
       "      <th>2</th>\n",
       "      <td>Aestheticism</td>\n",
       "      <td>1868-1900</td>\n",
       "    </tr>\n",
       "    <tr>\n",
       "      <th>3</th>\n",
       "      <td>Art Deco</td>\n",
       "      <td>1920-1939</td>\n",
       "    </tr>\n",
       "    <tr>\n",
       "      <th>4</th>\n",
       "      <td>Art Nouveau</td>\n",
       "      <td>1890-1914</td>\n",
       "    </tr>\n",
       "  </tbody>\n",
       "</table>\n",
       "</div>"
      ],
      "text/plain": [
       "                    title      dates\n",
       "0  Abstract Expressionism   1946-...\n",
       "1            Academic Art  1560-1900\n",
       "2            Aestheticism  1868-1900\n",
       "3                Art Deco  1920-1939\n",
       "4             Art Nouveau  1890-1914"
      ]
     },
     "execution_count": 100,
     "metadata": {},
     "output_type": "execute_result"
    }
   ],
   "source": [
    "df_art_movements.head()"
   ]
  },
  {
   "cell_type": "code",
   "execution_count": 101,
   "id": "bfae4b86",
   "metadata": {},
   "outputs": [],
   "source": [
    "cur.execute(\"\"\"CREATE TABLE paintings_schema.art_movement (\n",
    "  id_art_movement INT NOT NULL AUTO_INCREMENT,\n",
    "  title VARCHAR(120) NULL,\n",
    "  dates VARCHAR(30) NULL,\n",
    "  PRIMARY KEY (id_art_movement))\n",
    "  \"\"\")"
   ]
  },
  {
   "cell_type": "code",
   "execution_count": 102,
   "id": "00c1e6f4",
   "metadata": {},
   "outputs": [],
   "source": [
    "query = \"INSERT INTO paintings_schema.art_movement (title, dates) VALUES (%s, %s)\"\n",
    "for row in df_art_movements.itertuples():\n",
    "    data = (row.title, row.dates)\n",
    "    cur.execute(query, data)\n",
    "con.commit()"
   ]
  },
  {
   "cell_type": "code",
   "execution_count": 103,
   "id": "2b93aa8e",
   "metadata": {},
   "outputs": [],
   "source": [
    "cur.execute(\n",
    "    \"\"\"\n",
    "    UPDATE paintings_schema.painting\n",
    "    INNER JOIN paintings_schema.art_movement\n",
    "    ON paintings_schema.painting.id_art_movement = paintings_schema.art_movement.title\n",
    "    SET paintings_schema.painting.id_art_movement = paintings_schema.art_movement.id_art_movement\n",
    "    WHERE paintings_schema.painting.id_art_movement = paintings_schema.art_movement.title\n",
    "    \"\"\"\n",
    "    )\n",
    "con.commit()"
   ]
  },
  {
   "cell_type": "code",
   "execution_count": 104,
   "id": "0c2cd587",
   "metadata": {},
   "outputs": [],
   "source": [
    "cur.execute(\n",
    "    \"\"\"\n",
    "    ALTER TABLE paintings_schema.painting\n",
    "    MODIFY id_art_movement INT,\n",
    "    ADD CONSTRAINT fk_id_art_movement\n",
    "    FOREIGN KEY (id_art_movement) REFERENCES paintings_schema.art_movement(id_art_movement)\n",
    "    \"\"\"\n",
    "    )\n",
    "con.commit()"
   ]
  },
  {
   "cell_type": "markdown",
   "id": "fb86362c",
   "metadata": {},
   "source": [
    "## exhibitions"
   ]
  },
  {
   "cell_type": "code",
   "execution_count": 105,
   "id": "bdf006bd",
   "metadata": {},
   "outputs": [],
   "source": [
    "data_exhibitions = pd.read_csv('paintings_db - exhibition.csv')   \n",
    "df_exhibitions = pd.DataFrame(data_exhibitions)"
   ]
  },
  {
   "cell_type": "code",
   "execution_count": 106,
   "id": "05a87974",
   "metadata": {},
   "outputs": [
    {
     "data": {
      "text/html": [
       "<div>\n",
       "<style scoped>\n",
       "    .dataframe tbody tr th:only-of-type {\n",
       "        vertical-align: middle;\n",
       "    }\n",
       "\n",
       "    .dataframe tbody tr th {\n",
       "        vertical-align: top;\n",
       "    }\n",
       "\n",
       "    .dataframe thead th {\n",
       "        text-align: right;\n",
       "    }\n",
       "</style>\n",
       "<table border=\"1\" class=\"dataframe\">\n",
       "  <thead>\n",
       "    <tr style=\"text-align: right;\">\n",
       "      <th></th>\n",
       "      <th>id_painting</th>\n",
       "      <th>title</th>\n",
       "      <th>dates</th>\n",
       "      <th>id_museum</th>\n",
       "    </tr>\n",
       "  </thead>\n",
       "  <tbody>\n",
       "    <tr>\n",
       "      <th>0</th>\n",
       "      <td>Almond Blossoms</td>\n",
       "      <td>Bloesem</td>\n",
       "      <td>21 March 2011 - 21 June 2011</td>\n",
       "      <td>Van Gogh Museum</td>\n",
       "    </tr>\n",
       "    <tr>\n",
       "      <th>1</th>\n",
       "      <td>Almond Blossoms</td>\n",
       "      <td>Eeuwfeest Vincent van Gogh</td>\n",
       "      <td>24 May 1953 - 19 July 1953</td>\n",
       "      <td>Kröller-Müller Museum</td>\n",
       "    </tr>\n",
       "    <tr>\n",
       "      <th>2</th>\n",
       "      <td>Almond Blossoms</td>\n",
       "      <td>Eeuwfeest Vincent van Gogh</td>\n",
       "      <td>23 July 1953 - 20 September 1953</td>\n",
       "      <td>Stedelijk Museum Amsterdam</td>\n",
       "    </tr>\n",
       "    <tr>\n",
       "      <th>3</th>\n",
       "      <td>Almond Blossoms</td>\n",
       "      <td>Japan : Van Gogh's Utopia</td>\n",
       "      <td>7 June 1991 - 22 September 1991</td>\n",
       "      <td>Rijksmuseum Vincent van Gogh</td>\n",
       "    </tr>\n",
       "    <tr>\n",
       "      <th>4</th>\n",
       "      <td>Almond Blossoms</td>\n",
       "      <td>L'art contemporain. Salon 1914 / Kunst van Hed...</td>\n",
       "      <td>7 March 1914 - 5 April 1914</td>\n",
       "      <td>Zaal Comité voor Artistieke Werking</td>\n",
       "    </tr>\n",
       "  </tbody>\n",
       "</table>\n",
       "</div>"
      ],
      "text/plain": [
       "       id_painting                                              title  \\\n",
       "0  Almond Blossoms                                            Bloesem   \n",
       "1  Almond Blossoms                         Eeuwfeest Vincent van Gogh   \n",
       "2  Almond Blossoms                         Eeuwfeest Vincent van Gogh   \n",
       "3  Almond Blossoms                          Japan : Van Gogh's Utopia   \n",
       "4  Almond Blossoms  L'art contemporain. Salon 1914 / Kunst van Hed...   \n",
       "\n",
       "                              dates                            id_museum  \n",
       "0      21 March 2011 - 21 June 2011                      Van Gogh Museum  \n",
       "1        24 May 1953 - 19 July 1953                Kröller-Müller Museum  \n",
       "2  23 July 1953 - 20 September 1953           Stedelijk Museum Amsterdam  \n",
       "3   7 June 1991 - 22 September 1991         Rijksmuseum Vincent van Gogh  \n",
       "4       7 March 1914 - 5 April 1914  Zaal Comité voor Artistieke Werking  "
      ]
     },
     "execution_count": 106,
     "metadata": {},
     "output_type": "execute_result"
    }
   ],
   "source": [
    "df_exhibitions.head()"
   ]
  },
  {
   "cell_type": "code",
   "execution_count": 107,
   "id": "5b65d0c0",
   "metadata": {},
   "outputs": [],
   "source": [
    "cur.execute(\"\"\"CREATE TABLE paintings_schema.exhibition (\n",
    "  id_exhibition INT NOT NULL AUTO_INCREMENT,\n",
    "  id_painting VARCHAR(120) NULL,\n",
    "  title VARCHAR(256) NULL,\n",
    "  dates VARCHAR(45) NULL,\n",
    "  id_museum VARCHAR(120) NULL,\n",
    "  PRIMARY KEY (id_exhibition))\n",
    "  \"\"\")"
   ]
  },
  {
   "cell_type": "code",
   "execution_count": 108,
   "id": "5f287aab",
   "metadata": {},
   "outputs": [],
   "source": [
    "query = \"INSERT INTO paintings_schema.exhibition (id_painting, title, dates, id_museum) VALUES (%s, %s, %s, %s)\"\n",
    "for row in df_exhibitions.itertuples():\n",
    "    data = (row.id_painting, row.title, row.dates, row.id_museum)\n",
    "    cur.execute(query, data)\n",
    "con.commit()"
   ]
  },
  {
   "cell_type": "code",
   "execution_count": 109,
   "id": "ae8d3dad",
   "metadata": {},
   "outputs": [],
   "source": [
    "cur.execute(\"UPDATE paintings_schema.exhibition SET title = NULL WHERE (title = '-')\")\n",
    "cur.execute(\"UPDATE paintings_schema.exhibition SET dates = NULL WHERE (dates = '-')\")\n",
    "cur.execute(\"UPDATE paintings_schema.exhibition SET id_museum = NULL WHERE (id_museum = '-')\")\n",
    "con.commit()"
   ]
  },
  {
   "cell_type": "code",
   "execution_count": 110,
   "id": "b411ee87",
   "metadata": {},
   "outputs": [],
   "source": [
    "cur.execute(\n",
    "    \"\"\"\n",
    "    UPDATE paintings_schema.exhibition\n",
    "    INNER JOIN paintings_schema.painting\n",
    "    ON paintings_schema.exhibition.id_painting = paintings_schema.painting.title\n",
    "    SET paintings_schema.exhibition.id_painting = paintings_schema.painting.id_painting\n",
    "    WHERE paintings_schema.exhibition.id_painting = paintings_schema.painting.title\n",
    "    \"\"\"\n",
    "    )\n",
    "con.commit()"
   ]
  },
  {
   "cell_type": "code",
   "execution_count": 111,
   "id": "32462c3c",
   "metadata": {},
   "outputs": [],
   "source": [
    "cur.execute(\n",
    "    \"\"\"\n",
    "    ALTER TABLE paintings_schema.exhibition\n",
    "    MODIFY id_painting INT,\n",
    "    ADD CONSTRAINT fk_id_painting\n",
    "    FOREIGN KEY (id_painting) REFERENCES paintings_schema.painting(id_painting)\n",
    "    \"\"\"\n",
    "    )\n",
    "con.commit()"
   ]
  },
  {
   "cell_type": "code",
   "execution_count": 112,
   "id": "a5661e29",
   "metadata": {},
   "outputs": [],
   "source": [
    "cur.execute(\n",
    "    \"\"\"\n",
    "    UPDATE paintings_schema.exhibition\n",
    "    INNER JOIN paintings_schema.museum\n",
    "    ON paintings_schema.exhibition.id_museum = paintings_schema.museum.name\n",
    "    SET paintings_schema.exhibition.id_museum = paintings_schema.museum.id_museum\n",
    "    WHERE paintings_schema.exhibition.id_museum = paintings_schema.museum.name\n",
    "    \"\"\"\n",
    "    )\n",
    "con.commit()"
   ]
  },
  {
   "cell_type": "code",
   "execution_count": 114,
   "id": "330b3fc6",
   "metadata": {},
   "outputs": [],
   "source": [
    "cur.execute(\n",
    "    \"\"\"\n",
    "    ALTER TABLE paintings_schema.exhibition\n",
    "    MODIFY id_museum INT,\n",
    "    ADD CONSTRAINT fk_exhibition_id_museum\n",
    "    FOREIGN KEY (id_museum) REFERENCES paintings_schema.museum(id_museum)\n",
    "    \"\"\"\n",
    "    )\n",
    "con.commit()"
   ]
  },
  {
   "cell_type": "markdown",
   "id": "0db75c9a",
   "metadata": {},
   "source": [
    "## locations"
   ]
  },
  {
   "cell_type": "code",
   "execution_count": 115,
   "id": "455f8253",
   "metadata": {},
   "outputs": [],
   "source": [
    "cur.execute(\"\"\"CREATE TABLE paintings_schema.location (\n",
    "  id_location INT NOT NULL AUTO_INCREMENT,\n",
    "  locality VARCHAR(30) NULL,\n",
    "  country VARCHAR(30) NULL,\n",
    "  PRIMARY KEY (id_location))\n",
    "  \"\"\")"
   ]
  },
  {
   "cell_type": "code",
   "execution_count": 116,
   "id": "1b7ffae4",
   "metadata": {},
   "outputs": [],
   "source": [
    "cur.execute(\n",
    "    \"\"\"\n",
    "    USE paintings_schema\n",
    "    \"\"\")"
   ]
  },
  {
   "cell_type": "code",
   "execution_count": 117,
   "id": "6c698dd6",
   "metadata": {},
   "outputs": [],
   "source": [
    "cur.execute(\n",
    "    \"\"\"\n",
    "    CREATE FUNCTION SPLIT_STR(\n",
    "      x VARCHAR(255),\n",
    "      delim VARCHAR(12),\n",
    "      pos INT\n",
    "        )\n",
    "    RETURNS VARCHAR(255) DETERMINISTIC\n",
    "    BEGIN \n",
    "        RETURN REPLACE(SUBSTRING(SUBSTRING_INDEX(x, delim, pos),\n",
    "        LENGTH(SUBSTRING_INDEX(x, delim, pos -1)) + 1),\n",
    "        delim, '');\n",
    "    END\n",
    "    \"\"\")"
   ]
  },
  {
   "cell_type": "code",
   "execution_count": 118,
   "id": "c8bba44e",
   "metadata": {},
   "outputs": [],
   "source": [
    "cur.execute(\n",
    "    \"\"\"\n",
    "    INSERT INTO paintings_schema.location (locality, country)\n",
    "    SELECT DISTINCT SPLIT_STR(id_location, ', ', 1), SPLIT_STR(id_location, ', ', 2)\n",
    "    FROM paintings_schema.museum\n",
    "    \"\"\")"
   ]
  },
  {
   "cell_type": "code",
   "execution_count": 119,
   "id": "298b1c17",
   "metadata": {},
   "outputs": [],
   "source": [
    "cur.execute(\n",
    "    \"\"\"\n",
    "    UPDATE paintings_schema.museum\n",
    "    INNER JOIN paintings_schema.location\n",
    "    SET paintings_schema.museum.id_location = paintings_schema.location.id_location\n",
    "    WHERE paintings_schema.museum.id_location LIKE CONCAT('%', paintings_schema.location.locality, '%')\n",
    "    \"\"\"\n",
    "    )\n",
    "con.commit()"
   ]
  },
  {
   "cell_type": "code",
   "execution_count": 120,
   "id": "7864d775",
   "metadata": {},
   "outputs": [],
   "source": [
    "cur.execute(\n",
    "    \"\"\"\n",
    "    ALTER TABLE paintings_schema.museum\n",
    "    MODIFY id_location INT,\n",
    "    ADD CONSTRAINT fk_id_location\n",
    "    FOREIGN KEY (id_location) REFERENCES paintings_schema.location(id_location)\n",
    "    \"\"\"\n",
    "    )\n",
    "con.commit()"
   ]
  },
  {
   "cell_type": "code",
   "execution_count": 121,
   "id": "71a15f18",
   "metadata": {},
   "outputs": [],
   "source": [
    "cur.execute(\"UPDATE paintings_schema.location SET locality = NULL WHERE (locality = '-')\")\n",
    "con.commit()"
   ]
  },
  {
   "cell_type": "markdown",
   "id": "c5e0d333",
   "metadata": {},
   "source": [
    "## Delete"
   ]
  },
  {
   "cell_type": "code",
   "execution_count": null,
   "id": "30ba933b",
   "metadata": {},
   "outputs": [],
   "source": [
    "cur.execute(\"DROP DATABASE paintings_schema\")"
   ]
  }
 ],
 "metadata": {
  "kernelspec": {
   "display_name": "Python 3 (ipykernel)",
   "language": "python",
   "name": "python3"
  },
  "language_info": {
   "codemirror_mode": {
    "name": "ipython",
    "version": 3
   },
   "file_extension": ".py",
   "mimetype": "text/x-python",
   "name": "python",
   "nbconvert_exporter": "python",
   "pygments_lexer": "ipython3",
   "version": "3.10.6"
  }
 },
 "nbformat": 4,
 "nbformat_minor": 5
}
